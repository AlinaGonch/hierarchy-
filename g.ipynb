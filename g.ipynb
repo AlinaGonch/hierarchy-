{
 "cells": [
  {
   "cell_type": "code",
   "execution_count": 43,
   "source": [
    "import pandas as pd\r\n",
    "\r\n",
    "data = pd.read_csv('category_names (1).csv', sep=',')\r\n",
    "df = data[['category_level1', 'category_level2', 'category_level3', 'category_id']]\r\n",
    "rows = df.iloc[2:5]\r\n",
    "\r\n",
    "\r\n",
    "def fill_hierarchy(columns, row, hierarchy):\r\n",
    "    if isinstance(hierarchy, list):\r\n",
    "        first_element = columns.pop(0)\r\n",
    "        key = row[first_element]\r\n",
    "        hierarchy.append(key)\r\n",
    "        \r\n",
    "    if len(columns) == 2:\r\n",
    "        first_element = columns.pop(0)\r\n",
    "        key = row[first_element]\r\n",
    "        if key not in hierarchy:\r\n",
    "            hierarchy[key] = []\r\n",
    "            fill_hierarchy(columns, row, hierarchy[key])\r\n",
    "\r\n",
    "\r\n",
    "    if len(columns) == 0 or len(columns) == 1:\r\n",
    "        return hierarchy\r\n",
    "\r\n",
    "    first_element = columns.pop(0)\r\n",
    "    key = row[first_element]\r\n",
    "    if key not in hierarchy:\r\n",
    "        hierarchy[key] = {}\r\n",
    "        fill_hierarchy(columns, row, hierarchy[key])\r\n",
    "\r\n",
    "m = {}\r\n",
    "columns = rows.columns.tolist()\r\n",
    "for index, row in rows.iterrows():\r\n",
    "    fill_hierarchy(columns=columns, row=row, hierarchy=m)\r\n",
    "m"
   ],
   "outputs": [
    {
     "output_type": "execute_result",
     "data": {
      "text/plain": [
       "{'AMENAGEMENT URBAIN - VOIRIE': {'AMENAGEMENT URBAIN': {'ABRI VELO - ABRI MOTO': [1000012776]}}}"
      ]
     },
     "metadata": {},
     "execution_count": 43
    }
   ],
   "metadata": {}
  },
  {
   "cell_type": "code",
   "execution_count": 33,
   "source": [
    "k = {8:1, 8:2, 8:3}\r\n",
    "k"
   ],
   "outputs": [
    {
     "output_type": "execute_result",
     "data": {
      "text/plain": [
       "{8: 3}"
      ]
     },
     "metadata": {},
     "execution_count": 33
    }
   ],
   "metadata": {}
  }
 ],
 "metadata": {
  "orig_nbformat": 4,
  "language_info": {
   "name": "python",
   "version": "3.9.5",
   "mimetype": "text/x-python",
   "codemirror_mode": {
    "name": "ipython",
    "version": 3
   },
   "pygments_lexer": "ipython3",
   "nbconvert_exporter": "python",
   "file_extension": ".py"
  },
  "kernelspec": {
   "name": "python3",
   "display_name": "Python 3.9.5 64-bit"
  },
  "interpreter": {
   "hash": "9ac7143a7187a51bd00941d330344243923120eff2ff8108e2167fab0ec3e57f"
  }
 },
 "nbformat": 4,
 "nbformat_minor": 2
}